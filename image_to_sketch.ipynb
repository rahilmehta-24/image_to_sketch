{
  "nbformat": 4,
  "nbformat_minor": 0,
  "metadata": {
    "colab": {
      "name": "image_to_sketch.ipynb",
      "provenance": [],
      "collapsed_sections": [],
      "authorship_tag": "ABX9TyNfwddRJT3bm3Btkrtl0h+8",
      "include_colab_link": true
    },
    "kernelspec": {
      "name": "python3",
      "display_name": "Python 3"
    },
    "language_info": {
      "name": "python"
    }
  },
  "cells": [
    {
      "cell_type": "markdown",
      "metadata": {
        "id": "view-in-github",
        "colab_type": "text"
      },
      "source": [
        "<a href=\"https://colab.research.google.com/github/webdesigner-24/image_to_sketch/blob/main/image_to_sketch.ipynb\" target=\"_parent\"><img src=\"https://colab.research.google.com/assets/colab-badge.svg\" alt=\"Open In Colab\"/></a>"
      ]
    },
    {
      "cell_type": "code",
      "metadata": {
        "colab": {
          "base_uri": "https://localhost:8080/"
        },
        "id": "yjzT0jT9EJVX",
        "outputId": "d969d69b-d2fd-4956-8384-a4d021b80dac"
      },
      "source": [
        "#import libraries\n",
        "import numpy as np\n",
        "import imageio\n",
        "import scipy.ndimage\n",
        "import cv2\n",
        "\n",
        "#lets create a variable which store a image\n",
        "img=\"my_sketch.jpg.jpg\"\n",
        "\n",
        "def grayscale(rgb):\n",
        "    return np.dot(rgb[...,:3],[0.299,0.587,0.114]) # thsi is the  formula convert an image to black and white\n",
        "\n",
        "#this function will convert your image into sketch formate\n",
        "def dodge(front,back):\n",
        "    result=front*255/(255-back)\n",
        "    result[result>255]=255\n",
        "    result[result==255]=255\n",
        "    return result.astype(\"uint8\")\n",
        "\n",
        "s=imageio.imread(\"my_sketch.jpg.jpg\")     \n",
        "g=grayscale(s)\n",
        "i=255-g\n",
        "\n",
        "#lets create blurred image\n",
        "b=scipy.ndimage.filters.gaussian_filter(i,sigma=10)\n",
        "r=dodge(b,g)\n",
        "\n",
        "#write the name of the picture which you have want\n",
        "cv2.imwrite(\"my_sketch.png\",r)"
      ],
      "execution_count": null,
      "outputs": [
        {
          "output_type": "execute_result",
          "data": {
            "text/plain": [
              "True"
            ]
          },
          "metadata": {
            "tags": []
          },
          "execution_count": 7
        }
      ]
    }
  ]
}